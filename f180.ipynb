{
 "cells": [
  {
   "cell_type": "code",
   "execution_count": 4,
   "metadata": {},
   "outputs": [
    {
     "ename": "ModuleNotFoundError",
     "evalue": "No module named 'gdal'",
     "output_type": "error",
     "traceback": [
      "\u001b[1;31m---------------------------------------------------------------------------\u001b[0m",
      "\u001b[1;31mModuleNotFoundError\u001b[0m                       Traceback (most recent call last)",
      "\u001b[1;32mc:\\Users\\avery\\OneDrive\\Documents\\GitHub\\DR_GDAL\\DR_GDAL\\f180.ipynb Cell 1\u001b[0m line \u001b[0;36m4\n\u001b[0;32m      <a href='vscode-notebook-cell:/c%3A/Users/avery/OneDrive/Documents/GitHub/DR_GDAL/DR_GDAL/f180.ipynb#W0sZmlsZQ%3D%3D?line=1'>2</a>\u001b[0m \u001b[39mimport\u001b[39;00m \u001b[39mpandas\u001b[39;00m \u001b[39mas\u001b[39;00m \u001b[39mpd\u001b[39;00m\n\u001b[0;32m      <a href='vscode-notebook-cell:/c%3A/Users/avery/OneDrive/Documents/GitHub/DR_GDAL/DR_GDAL/f180.ipynb#W0sZmlsZQ%3D%3D?line=2'>3</a>\u001b[0m \u001b[39mimport\u001b[39;00m \u001b[39mmatplotlib\u001b[39;00m \u001b[39mas\u001b[39;00m \u001b[39mplt\u001b[39;00m\n\u001b[1;32m----> <a href='vscode-notebook-cell:/c%3A/Users/avery/OneDrive/Documents/GitHub/DR_GDAL/DR_GDAL/f180.ipynb#W0sZmlsZQ%3D%3D?line=3'>4</a>\u001b[0m \u001b[39mimport\u001b[39;00m \u001b[39mgdal\u001b[39;00m \u001b[39mas\u001b[39;00m \u001b[39mgd\u001b[39;00m\n\u001b[0;32m      <a href='vscode-notebook-cell:/c%3A/Users/avery/OneDrive/Documents/GitHub/DR_GDAL/DR_GDAL/f180.ipynb#W0sZmlsZQ%3D%3D?line=7'>8</a>\u001b[0m f180 \u001b[39m=\u001b[39m pd\u001b[39m.\u001b[39mread_csv(\u001b[39m\"\u001b[39m\u001b[39mF180_1Hz.csv\u001b[39m\u001b[39m\"\u001b[39m)\n\u001b[0;32m     <a href='vscode-notebook-cell:/c%3A/Users/avery/OneDrive/Documents/GitHub/DR_GDAL/DR_GDAL/f180.ipynb#W0sZmlsZQ%3D%3D?line=9'>10</a>\u001b[0m f180\u001b[39m.\u001b[39mhead()\n",
      "\u001b[1;31mModuleNotFoundError\u001b[0m: No module named 'gdal'"
     ]
    }
   ],
   "source": [
    "import numpy as np\n",
    "import pandas as pd\n",
    "import matplotlib as plt\n",
    "import gdal as gd\n",
    "\n",
    "\n",
    "\n",
    "f180 = pd.read_csv(\"F180_1Hz.csv\")\n",
    "\n",
    "f180.head()"
   ]
  },
  {
   "cell_type": "markdown",
   "metadata": {},
   "source": [
    "Now to remove all the columns except the latitude and longitude"
   ]
  },
  {
   "cell_type": "code",
   "execution_count": 3,
   "metadata": {},
   "outputs": [
    {
     "data": {
      "text/html": [
       "<div>\n",
       "<style scoped>\n",
       "    .dataframe tbody tr th:only-of-type {\n",
       "        vertical-align: middle;\n",
       "    }\n",
       "\n",
       "    .dataframe tbody tr th {\n",
       "        vertical-align: top;\n",
       "    }\n",
       "\n",
       "    .dataframe thead th {\n",
       "        text-align: right;\n",
       "    }\n",
       "</style>\n",
       "<table border=\"1\" class=\"dataframe\">\n",
       "  <thead>\n",
       "    <tr style=\"text-align: right;\">\n",
       "      <th></th>\n",
       "      <th>Latitude</th>\n",
       "      <th>Longitude</th>\n",
       "      <th>Altitude (m)</th>\n",
       "      <th>Vl (km/h)</th>\n",
       "    </tr>\n",
       "  </thead>\n",
       "  <tbody>\n",
       "    <tr>\n",
       "      <th>0</th>\n",
       "      <td>45.961101</td>\n",
       "      <td>-66.626906</td>\n",
       "      <td>-20.567</td>\n",
       "      <td>-0.014</td>\n",
       "    </tr>\n",
       "    <tr>\n",
       "      <th>1</th>\n",
       "      <td>45.961101</td>\n",
       "      <td>-66.626906</td>\n",
       "      <td>-20.567</td>\n",
       "      <td>-0.016</td>\n",
       "    </tr>\n",
       "    <tr>\n",
       "      <th>2</th>\n",
       "      <td>45.961101</td>\n",
       "      <td>-66.626906</td>\n",
       "      <td>-20.565</td>\n",
       "      <td>-0.015</td>\n",
       "    </tr>\n",
       "    <tr>\n",
       "      <th>3</th>\n",
       "      <td>45.961101</td>\n",
       "      <td>-66.626906</td>\n",
       "      <td>-20.564</td>\n",
       "      <td>-0.009</td>\n",
       "    </tr>\n",
       "    <tr>\n",
       "      <th>4</th>\n",
       "      <td>45.961101</td>\n",
       "      <td>-66.626906</td>\n",
       "      <td>-20.562</td>\n",
       "      <td>-0.002</td>\n",
       "    </tr>\n",
       "  </tbody>\n",
       "</table>\n",
       "</div>"
      ],
      "text/plain": [
       "    Latitude  Longitude  Altitude (m)   Vl (km/h)\n",
       "0  45.961101 -66.626906       -20.567      -0.014\n",
       "1  45.961101 -66.626906       -20.567      -0.016\n",
       "2  45.961101 -66.626906       -20.565      -0.015\n",
       "3  45.961101 -66.626906       -20.564      -0.009\n",
       "4  45.961101 -66.626906       -20.562      -0.002"
      ]
     },
     "execution_count": 3,
     "metadata": {},
     "output_type": "execute_result"
    }
   ],
   "source": [
    "f180.drop(['Date', 'Time(UTC-3)', 'Distance from start (m)', 'PitchAcc', 'RollAcc', 'HeadingAcc', 'Online Heave Value (m)', 'iHeave Date', 'iHeave Time (UTC-3)', 'iHeave Value (m)', 'Unnamed: 41',\n",
    "           'Wz', 'Wf', 'Wl', 'Wd', 'LatitudeAcc', 'LongitudeAcc', 'AltitudeAcc (m)', 'VnAcc (km/h)', 'VeAcc (km/h)', 'VdAcc (km/h)', 'Ay', 'Az', 'Af', 'Al', 'Ad', 'Heading', \n",
    "           'Pitch', 'Roll', 'Wx', 'Wy', 'Ax', 'Speed (km/h)', 'Time from start', 'Vn (km/h)', 'Ve (km/h)', 'Vd (km/h)', 'Vf (km/h)'],\n",
    "                 axis='columns', inplace=True)\n",
    "\n",
    "f180.head()"
   ]
  },
  {
   "cell_type": "code",
   "execution_count": 5,
   "metadata": {},
   "outputs": [],
   "source": [
    "f180.to_csv('data.csv')"
   ]
  }
 ],
 "metadata": {
  "kernelspec": {
   "display_name": "Python 3",
   "language": "python",
   "name": "python3"
  },
  "language_info": {
   "codemirror_mode": {
    "name": "ipython",
    "version": 3
   },
   "file_extension": ".py",
   "mimetype": "text/x-python",
   "name": "python",
   "nbconvert_exporter": "python",
   "pygments_lexer": "ipython3",
   "version": "3.8.10"
  },
  "orig_nbformat": 4
 },
 "nbformat": 4,
 "nbformat_minor": 2
}
